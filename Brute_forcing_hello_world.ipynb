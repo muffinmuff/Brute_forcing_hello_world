{
 "cells": [
  {
   "cell_type": "code",
   "execution_count": 5,
   "id": "430daa27",
   "metadata": {},
   "outputs": [
    {
     "name": "stdout",
     "output_type": "stream",
     "text": [
      "Hello, World!\r"
     ]
    }
   ],
   "source": [
    "from random import randint\n",
    "from time import sleep\n",
    "\n",
    "target_phrase = 'Hello, World!'\n",
    "build_phrase = ''\n",
    "\n",
    "def generate_random_character():\n",
    "    return chr(randint(32, 126))\n",
    "\n",
    "while True:\n",
    "    current_index = 0\n",
    "    while current_index < len(target_phrase): \n",
    "        guess_letter = generate_random_character()   \n",
    "        print(build_phrase + guess_letter, end='\\r')\n",
    "        if guess_letter == target_phrase[current_index]:\n",
    "            build_phrase += guess_letter\n",
    "            current_index += 1    \n",
    "        sleep(.005)\n",
    "    build_phrase = ''\n",
    "    break"
   ]
  },
  {
   "cell_type": "code",
   "execution_count": null,
   "id": "0cfa8af8",
   "metadata": {},
   "outputs": [],
   "source": []
  }
 ],
 "metadata": {
  "kernelspec": {
   "display_name": "Python 3 (ipykernel)",
   "language": "python",
   "name": "python3"
  },
  "language_info": {
   "codemirror_mode": {
    "name": "ipython",
    "version": 3
   },
   "file_extension": ".py",
   "mimetype": "text/x-python",
   "name": "python",
   "nbconvert_exporter": "python",
   "pygments_lexer": "ipython3",
   "version": "3.11.5"
  }
 },
 "nbformat": 4,
 "nbformat_minor": 5
}
